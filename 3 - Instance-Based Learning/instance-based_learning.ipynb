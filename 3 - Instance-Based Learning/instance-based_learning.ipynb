{
 "cells": [
  {
   "cell_type": "code",
   "execution_count": 25,
   "outputs": [],
   "source": [
    "from operator import itemgetter\n",
    "from statistics import mode\n",
    "\n",
    "import pandas as pd\n",
    "import numpy as np"
   ],
   "metadata": {
    "collapsed": false,
    "pycharm": {
     "name": "#%%\n"
    }
   }
  },
  {
   "cell_type": "code",
   "execution_count": 19,
   "outputs": [
    {
     "data": {
      "text/plain": "   class  alcohol  malic_acid   ash  alcalinity_of_ash  magnesium  \\\n0      1    14.23        1.71  2.43               15.6        127   \n1      1    13.20        1.78  2.14               11.2        100   \n2      1    13.16        2.36  2.67               18.6        101   \n3      1    14.37        1.95  2.50               16.8        113   \n4      1    13.24        2.59  2.87               21.0        118   \n\n   total phenols  flavanoids  non-flavanoid phenols  proanthocyanins  \\\n0           2.80        3.06                   0.28             2.29   \n1           2.65        2.76                   0.26             1.28   \n2           2.80        3.24                   0.30             2.81   \n3           3.85        3.49                   0.24             2.18   \n4           2.80        2.69                   0.39             1.82   \n\n   color_intensity   hue  protein_content  proline  \n0             5.64  1.04             3.92     1065  \n1             4.38  1.05             3.40     1050  \n2             5.68  1.03             3.17     1185  \n3             7.80  0.86             3.45     1480  \n4             4.32  1.04             2.93      735  ",
      "text/html": "<div>\n<style scoped>\n    .dataframe tbody tr th:only-of-type {\n        vertical-align: middle;\n    }\n\n    .dataframe tbody tr th {\n        vertical-align: top;\n    }\n\n    .dataframe thead th {\n        text-align: right;\n    }\n</style>\n<table border=\"1\" class=\"dataframe\">\n  <thead>\n    <tr style=\"text-align: right;\">\n      <th></th>\n      <th>class</th>\n      <th>alcohol</th>\n      <th>malic_acid</th>\n      <th>ash</th>\n      <th>alcalinity_of_ash</th>\n      <th>magnesium</th>\n      <th>total phenols</th>\n      <th>flavanoids</th>\n      <th>non-flavanoid phenols</th>\n      <th>proanthocyanins</th>\n      <th>color_intensity</th>\n      <th>hue</th>\n      <th>protein_content</th>\n      <th>proline</th>\n    </tr>\n  </thead>\n  <tbody>\n    <tr>\n      <th>0</th>\n      <td>1</td>\n      <td>14.23</td>\n      <td>1.71</td>\n      <td>2.43</td>\n      <td>15.6</td>\n      <td>127</td>\n      <td>2.80</td>\n      <td>3.06</td>\n      <td>0.28</td>\n      <td>2.29</td>\n      <td>5.64</td>\n      <td>1.04</td>\n      <td>3.92</td>\n      <td>1065</td>\n    </tr>\n    <tr>\n      <th>1</th>\n      <td>1</td>\n      <td>13.20</td>\n      <td>1.78</td>\n      <td>2.14</td>\n      <td>11.2</td>\n      <td>100</td>\n      <td>2.65</td>\n      <td>2.76</td>\n      <td>0.26</td>\n      <td>1.28</td>\n      <td>4.38</td>\n      <td>1.05</td>\n      <td>3.40</td>\n      <td>1050</td>\n    </tr>\n    <tr>\n      <th>2</th>\n      <td>1</td>\n      <td>13.16</td>\n      <td>2.36</td>\n      <td>2.67</td>\n      <td>18.6</td>\n      <td>101</td>\n      <td>2.80</td>\n      <td>3.24</td>\n      <td>0.30</td>\n      <td>2.81</td>\n      <td>5.68</td>\n      <td>1.03</td>\n      <td>3.17</td>\n      <td>1185</td>\n    </tr>\n    <tr>\n      <th>3</th>\n      <td>1</td>\n      <td>14.37</td>\n      <td>1.95</td>\n      <td>2.50</td>\n      <td>16.8</td>\n      <td>113</td>\n      <td>3.85</td>\n      <td>3.49</td>\n      <td>0.24</td>\n      <td>2.18</td>\n      <td>7.80</td>\n      <td>0.86</td>\n      <td>3.45</td>\n      <td>1480</td>\n    </tr>\n    <tr>\n      <th>4</th>\n      <td>1</td>\n      <td>13.24</td>\n      <td>2.59</td>\n      <td>2.87</td>\n      <td>21.0</td>\n      <td>118</td>\n      <td>2.80</td>\n      <td>2.69</td>\n      <td>0.39</td>\n      <td>1.82</td>\n      <td>4.32</td>\n      <td>1.04</td>\n      <td>2.93</td>\n      <td>735</td>\n    </tr>\n  </tbody>\n</table>\n</div>"
     },
     "execution_count": 19,
     "metadata": {},
     "output_type": "execute_result"
    }
   ],
   "source": [
    "names = ['class', 'alcohol', 'malic_acid', 'ash', 'alcalinity_of_ash', 'magnesium', 'total phenols', 'flavanoids',\n",
    "         'non-flavanoid phenols', 'proanthocyanins', 'color_intensity', 'hue', 'protein_content', 'proline']\n",
    "\n",
    "dataset_url = 'https://archive.ics.uci.edu/ml/machine-learning-databases/wine/wine.data'\n",
    "df = pd.read_csv(dataset_url, names=names)\n",
    "\n",
    "df.head()"
   ],
   "metadata": {
    "collapsed": false,
    "pycharm": {
     "name": "#%%\n"
    }
   }
  },
  {
   "cell_type": "code",
   "execution_count": 22,
   "outputs": [
    {
     "data": {
      "text/plain": "     class  alcohol  malic_acid   ash  alcalinity_of_ash  magnesium  \\\n111      2    12.52        2.43  2.17               21.0         88   \n136      3    12.25        4.72  2.54               21.0         89   \n106      2    12.25        1.73  2.12               19.0         80   \n113      2    11.41        0.74  2.50               21.0         88   \n135      3    12.60        2.46  2.20               18.5         94   \n\n     total phenols  flavanoids  non-flavanoid phenols  proanthocyanins  \\\n111           2.55        2.27                   0.26             1.22   \n136           1.38        0.47                   0.53             0.80   \n106           1.65        2.03                   0.37             1.63   \n113           2.48        2.01                   0.42             1.44   \n135           1.62        0.66                   0.63             0.94   \n\n     color_intensity   hue  protein_content  proline  \n111             2.00  0.90             2.78      325  \n136             3.85  0.75             1.27      720  \n106             3.40  1.00             3.17      510  \n113             3.08  1.10             2.31      434  \n135             7.10  0.73             1.58      695  ",
      "text/html": "<div>\n<style scoped>\n    .dataframe tbody tr th:only-of-type {\n        vertical-align: middle;\n    }\n\n    .dataframe tbody tr th {\n        vertical-align: top;\n    }\n\n    .dataframe thead th {\n        text-align: right;\n    }\n</style>\n<table border=\"1\" class=\"dataframe\">\n  <thead>\n    <tr style=\"text-align: right;\">\n      <th></th>\n      <th>class</th>\n      <th>alcohol</th>\n      <th>malic_acid</th>\n      <th>ash</th>\n      <th>alcalinity_of_ash</th>\n      <th>magnesium</th>\n      <th>total phenols</th>\n      <th>flavanoids</th>\n      <th>non-flavanoid phenols</th>\n      <th>proanthocyanins</th>\n      <th>color_intensity</th>\n      <th>hue</th>\n      <th>protein_content</th>\n      <th>proline</th>\n    </tr>\n  </thead>\n  <tbody>\n    <tr>\n      <th>111</th>\n      <td>2</td>\n      <td>12.52</td>\n      <td>2.43</td>\n      <td>2.17</td>\n      <td>21.0</td>\n      <td>88</td>\n      <td>2.55</td>\n      <td>2.27</td>\n      <td>0.26</td>\n      <td>1.22</td>\n      <td>2.00</td>\n      <td>0.90</td>\n      <td>2.78</td>\n      <td>325</td>\n    </tr>\n    <tr>\n      <th>136</th>\n      <td>3</td>\n      <td>12.25</td>\n      <td>4.72</td>\n      <td>2.54</td>\n      <td>21.0</td>\n      <td>89</td>\n      <td>1.38</td>\n      <td>0.47</td>\n      <td>0.53</td>\n      <td>0.80</td>\n      <td>3.85</td>\n      <td>0.75</td>\n      <td>1.27</td>\n      <td>720</td>\n    </tr>\n    <tr>\n      <th>106</th>\n      <td>2</td>\n      <td>12.25</td>\n      <td>1.73</td>\n      <td>2.12</td>\n      <td>19.0</td>\n      <td>80</td>\n      <td>1.65</td>\n      <td>2.03</td>\n      <td>0.37</td>\n      <td>1.63</td>\n      <td>3.40</td>\n      <td>1.00</td>\n      <td>3.17</td>\n      <td>510</td>\n    </tr>\n    <tr>\n      <th>113</th>\n      <td>2</td>\n      <td>11.41</td>\n      <td>0.74</td>\n      <td>2.50</td>\n      <td>21.0</td>\n      <td>88</td>\n      <td>2.48</td>\n      <td>2.01</td>\n      <td>0.42</td>\n      <td>1.44</td>\n      <td>3.08</td>\n      <td>1.10</td>\n      <td>2.31</td>\n      <td>434</td>\n    </tr>\n    <tr>\n      <th>135</th>\n      <td>3</td>\n      <td>12.60</td>\n      <td>2.46</td>\n      <td>2.20</td>\n      <td>18.5</td>\n      <td>94</td>\n      <td>1.62</td>\n      <td>0.66</td>\n      <td>0.63</td>\n      <td>0.94</td>\n      <td>7.10</td>\n      <td>0.73</td>\n      <td>1.58</td>\n      <td>695</td>\n    </tr>\n  </tbody>\n</table>\n</div>"
     },
     "execution_count": 22,
     "metadata": {},
     "output_type": "execute_result"
    }
   ],
   "source": [
    "df = df.sample(frac=1)\n",
    "df.head()"
   ],
   "metadata": {
    "collapsed": false,
    "pycharm": {
     "name": "#%%\n"
    }
   }
  },
  {
   "cell_type": "code",
   "execution_count": 30,
   "outputs": [],
   "source": [
    "ys, xs = np.split(df.values, [1], axis=1)"
   ],
   "metadata": {
    "collapsed": false,
    "pycharm": {
     "name": "#%%\n"
    }
   }
  },
  {
   "cell_type": "code",
   "execution_count": 32,
   "outputs": [],
   "source": [
    "n_train = len(xs) * 80 // 100 # 80% of the dataset is used for training, 20% for testing\n",
    "xs_train, xs_test = np.split(xs, [n_train], axis=0)\n",
    "ys_train, ys_test = np.split(ys, [n_train], axis=0)"
   ],
   "metadata": {
    "collapsed": false,
    "pycharm": {
     "name": "#%%\n"
    }
   }
  },
  {
   "cell_type": "code",
   "execution_count": 40,
   "metadata": {
    "collapsed": true
   },
   "outputs": [],
   "source": [
    "def euclidean_distance(xs_1, xs_2):\n",
    "    res = 0\n",
    "    for x_1, x_2 in zip(xs_1, xs_2):\n",
    "        res += (x_1 - x_2) ** 2\n",
    "    res = res ** 0.5\n",
    "    return res"
   ]
  },
  {
   "cell_type": "code",
   "execution_count": null,
   "outputs": [],
   "source": [
    "class KNN:\n",
    "\n",
    "    def __init__(self, distance):\n",
    "        self.training_examples = []\n",
    "        self.distance = distance\n",
    "\n",
    "    def add_example(self, x, y):\n",
    "        self.training_examples.append((x, y))\n",
    "\n",
    "    def closest_training_examples(self, x_q):\n",
    "        y_pred = None\n",
    "        min_score = float('inf')\n",
    "        # find closest example\n",
    "        for x, y in self.training_examples:\n",
    "            score = self.distance(x_q, x)\n",
    "            if score < min_score:\n",
    "                min_score = score\n",
    "                y_pred = y\n",
    "\n",
    "        return y_pred\n",
    "\n",
    "    def classify(self, xq, k = 1):\n",
    "        # find the k closest\n",
    "        ys = self.closest_training_examples(xq, k)\n",
    "        # return the mode\n",
    "        return mode(ys)\n"
   ],
   "metadata": {
    "collapsed": false,
    "pycharm": {
     "name": "#%%\n"
    }
   }
  }
 ],
 "metadata": {
  "kernelspec": {
   "display_name": "Python 3",
   "language": "python",
   "name": "python3"
  },
  "language_info": {
   "codemirror_mode": {
    "name": "ipython",
    "version": 2
   },
   "file_extension": ".py",
   "mimetype": "text/x-python",
   "name": "python",
   "nbconvert_exporter": "python",
   "pygments_lexer": "ipython2",
   "version": "2.7.6"
  }
 },
 "nbformat": 4,
 "nbformat_minor": 0
}