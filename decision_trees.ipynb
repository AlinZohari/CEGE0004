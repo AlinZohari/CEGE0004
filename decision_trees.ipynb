{
 "cells": [
  {
   "cell_type": "code",
   "execution_count": 2,
   "outputs": [],
   "source": [
    "import random\n",
    "from statistics import mode"
   ],
   "metadata": {
    "collapsed": false,
    "pycharm": {
     "name": "#%%\n"
    }
   }
  },
  {
   "cell_type": "code",
   "execution_count": 3,
   "outputs": [],
   "source": [
    "features = {('outlook', 0):\n",
    "                {'sunny', 'overcast', 'rain'},\n",
    "            ('temperature', 1):\n",
    "                {'hot', 'mild', 'cool'},\n",
    "            ('humidity', 2):\n",
    "                {'high', 'normal', 'low'},\n",
    "            ('wind', 3):\n",
    "                {'weak', 'strong'}}\n",
    "\n",
    "xs = [['sunny', 'hot', 'high', 'weak'],\n",
    "      ['sunny', 'hot', 'high', 'strong'],\n",
    "      ['overcast', 'hot', 'high', 'weak'],\n",
    "      ['rain', 'mild', 'high', 'weak'],\n",
    "      ['rain', 'cool', 'normal', 'weak'],\n",
    "      ['rain', 'cool', 'normal', 'strong'],\n",
    "      ['overcast', 'cool', 'normal', 'strong'],\n",
    "      ['sunny', 'mild', 'high', 'weak'],\n",
    "      ['sunny', 'cool', 'high', 'weak'],\n",
    "      ['rain', 'mild', 'normal', 'weak'],\n",
    "      ['sunny', 'mild', 'normal', 'strong'],\n",
    "      ['overcast', 'mild', 'high', 'strong'],\n",
    "      ['overcast', 'hot', 'normal', 'weak'],\n",
    "      ['rain', 'mild', 'high', 'strong']]\n",
    "\n",
    "ys = ['no', 'no', 'yes', 'yes', 'yes', 'no', 'yes', 'no', 'yes', 'yes', 'yes', 'yes', 'yes', 'no']"
   ],
   "metadata": {
    "collapsed": false,
    "pycharm": {
     "name": "#%%\n"
    }
   }
  },
  {
   "cell_type": "code",
   "execution_count": 4,
   "metadata": {
    "collapsed": true
   },
   "outputs": [],
   "source": [
    "class Node:\n",
    "\n",
    "    def __init__(self):\n",
    "        self.feature = None\n",
    "        self.children = {}\n",
    "        self.label = None"
   ]
  },
  {
   "cell_type": "code",
   "execution_count": 5,
   "outputs": [],
   "source": [
    "def select_data(xs, ys, feature, value):\n",
    "    xs_value = []\n",
    "    ys_value = []\n",
    "    for x, y in zip(xs, ys):\n",
    "        if x[feature[1]] == value:\n",
    "            xs_value.append(x)\n",
    "            ys_value.append(y)\n",
    "\n",
    "    return xs_value, ys_value"
   ],
   "metadata": {
    "collapsed": false,
    "pycharm": {
     "name": "#%%\n"
    }
   }
  },
  {
   "cell_type": "code",
   "execution_count": 6,
   "outputs": [],
   "source": [
    "def select_best_feature(xs, ys, features):\n",
    "    return random.choice(list(features.keys()))\n",
    "\n",
    "def dict_minus(dict, key):\n",
    "    dict = dict.copy()\n",
    "    dict.pop(key)\n",
    "    return dict"
   ],
   "metadata": {
    "collapsed": false,
    "pycharm": {
     "name": "#%%\n"
    }
   }
  },
  {
   "cell_type": "code",
   "execution_count": 7,
   "outputs": [],
   "source": [
    "def id3(xs, ys, features):\n",
    "    root = Node()\n",
    "    if all([y == 'yes' for y in ys]): root.label = 'yes'\n",
    "    elif all([y == 'no' for y in ys]): root.label = 'no'\n",
    "    elif not features: root.label = mode(ys)\n",
    "    else:\n",
    "        feature = select_best_feature(xs, ys, features)\n",
    "        root.feature = feature\n",
    "        for value in features[feature]:\n",
    "            node = Node()\n",
    "            root.children[value] = node\n",
    "            xs_value, ys_value = select_data(xs, ys, feature, value)\n",
    "            if not xs_value: node.label = mode(ys)\n",
    "            else: root.children[value] = \\\n",
    "                id3(xs_value, ys_value, dict_minus(features, feature))\n",
    "    return root\n",
    "\n",
    "\n",
    "tree = id3(xs, ys, features)"
   ],
   "metadata": {
    "collapsed": false,
    "pycharm": {
     "name": "#%%\n"
    }
   }
  },
  {
   "cell_type": "code",
   "execution_count": 89,
   "outputs": [
    {
     "name": "stdout",
     "output_type": "stream",
     "text": [
      " humidity:\n",
      " -> low\n",
      "   -> yes\n",
      " -> normal\n",
      "   wind:\n",
      "   -> strong\n",
      "     temperature:\n",
      "     -> cool\n",
      "       outlook:\n",
      "       -> rain\n",
      "         -> no\n",
      "       -> overcast\n",
      "         -> yes\n",
      "       -> sunny\n",
      "         -> no\n",
      "     -> mild\n",
      "       -> yes\n",
      "     -> hot\n",
      "       -> yes\n",
      "   -> weak\n",
      "     -> yes\n",
      " -> high\n",
      "   wind:\n",
      "   -> strong\n",
      "     temperature:\n",
      "     -> cool\n",
      "       -> no\n",
      "     -> mild\n",
      "       outlook:\n",
      "       -> rain\n",
      "         -> no\n",
      "       -> overcast\n",
      "         -> yes\n",
      "       -> sunny\n",
      "         -> yes\n",
      "     -> hot\n",
      "       -> no\n",
      "   -> weak\n",
      "     outlook:\n",
      "     -> rain\n",
      "       -> yes\n",
      "     -> overcast\n",
      "       -> yes\n",
      "     -> sunny\n",
      "       temperature:\n",
      "       -> cool\n",
      "         -> yes\n",
      "       -> mild\n",
      "         -> no\n",
      "       -> hot\n",
      "         -> no\n"
     ]
    }
   ],
   "source": [
    "def show(node, skip = ''):\n",
    "    if node.feature:\n",
    "        print(skip, node.feature[0] + ':')\n",
    "    else:\n",
    "        print(skip, '->', node.label)\n",
    "    for value, node in node.children.items():\n",
    "        print(skip, '->', value)\n",
    "        show(node, skip + '  ')\n",
    "\n",
    "show(tree)"
   ],
   "metadata": {
    "collapsed": false,
    "pycharm": {
     "name": "#%%\n"
    }
   }
  },
  {
   "cell_type": "code",
   "execution_count": 91,
   "outputs": [
    {
     "name": "stdout",
     "output_type": "stream",
     "text": [
      "None 19\n",
      "19 19\n",
      "19 14\n",
      "14 14\n"
     ]
    },
    {
     "data": {
      "text/plain": "('humidity', 2)"
     },
     "execution_count": 91,
     "metadata": {},
     "output_type": "execute_result"
    }
   ],
   "source": [
    "def select_best_feature(xs, ys, features):\n",
    "    res = None\n",
    "    min_err = None\n",
    "    for feature in features:\n",
    "        err = 0\n",
    "        for value in features[feature]:\n",
    "            xs_value, ys_value = select_data(xs, ys, feature, value)\n",
    "            if ys_value:\n",
    "                y_pred = mode(ys_value)\n",
    "                err += sum([y_pred != y for y in ys])\n",
    "\n",
    "        if min_err is None or err < min_err:\n",
    "            min_err = err\n",
    "            res = feature\n",
    "    return res\n",
    "\n",
    "select_best_feature(xs, ys, features)"
   ],
   "metadata": {
    "collapsed": false,
    "pycharm": {
     "name": "#%%\n"
    }
   }
  },
  {
   "cell_type": "code",
   "execution_count": null,
   "outputs": [],
   "source": [],
   "metadata": {
    "collapsed": false,
    "pycharm": {
     "name": "#%%\n"
    }
   }
  }
 ],
 "metadata": {
  "kernelspec": {
   "display_name": "Python 3",
   "language": "python",
   "name": "python3"
  },
  "language_info": {
   "codemirror_mode": {
    "name": "ipython",
    "version": 2
   },
   "file_extension": ".py",
   "mimetype": "text/x-python",
   "name": "python",
   "nbconvert_exporter": "python",
   "pygments_lexer": "ipython2",
   "version": "2.7.6"
  }
 },
 "nbformat": 4,
 "nbformat_minor": 0
}