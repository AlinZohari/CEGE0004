{
 "cells": [
  {
   "cell_type": "markdown",
   "metadata": {
    "collapsed": true,
    "pycharm": {
     "name": "#%% md\n"
    }
   },
   "source": [
    "# Inductive Learning\n",
    "\n",
    "In this notebook you will learn some basic concepts about inductive learning.\n",
    "At the end of this notebook you should be able to search for conjunctive and m-of-n rules using a brute-force approach\n",
    "(all possible rules will be generated and evaluated).\n",
    "However, this approach is not useful in practice because when the dimensionality of the dataset grows its\n",
    "computational complexity grows exponentially. You can find more efficient methods to learn rules in the recommended\n",
    "book. These are however not covered by the module.\n",
    "\n",
    "## The Dataset\n",
    "\n",
    "In the following code cell, we will define a toy-dataset. This consists of a list of examples ($x$s) of 4 Boolean\n",
    "features and a list of Boolean target values ($y$s), that is $x \\in \\{0, 1\\}^4$ and $y \\in \\{0, 1\\}$, where 0 means\n",
    "False and 1 means True."
   ]
  },
  {
   "cell_type": "code",
   "execution_count": null,
   "outputs": [],
   "source": [
    "xs = [[0, 0, 1, 0],\n",
    "      [0, 1, 0, 0],\n",
    "      [0, 0, 1, 1],\n",
    "      [1, 0, 0, 1],\n",
    "      [0, 1, 1, 0],\n",
    "      [1, 1, 0, 0],\n",
    "      [0, 1, 0, 1]]\n",
    "\n",
    "ys = [0, 0, 1, 1, 0, 0, 0]"
   ],
   "metadata": {
    "collapsed": false,
    "pycharm": {
     "name": "#%%\n"
    }
   }
  },
  {
   "cell_type": "markdown",
   "source": [
    "This dataset defines a concept learning task: We want to learn the concept $f:\\{0,1\\}^4 \\rightarrow \\{0,1\\}$ that has\n",
    "generated this dataset.\n"
   ],
   "metadata": {
    "collapsed": false,
    "pycharm": {
     "name": "#%% md\n"
    }
   }
  },
  {
   "cell_type": "markdown",
   "source": [
    "## Learning Conjunctive Rules\n",
    "\n",
    "We choose as the hypothesis space $H$ the conjunctive rules. A rule consists of\n",
    "an antecedent, made of predictors, and a consequent, the prediction. A conjunctive rule links the predictors using\n",
    "the logical operator 'and', for example:\n",
    "\n",
    "\\begin{equation}\n",
    "a_1 \\wedge a_3 \\wedge a_4 \\rightarrow \\hat{y}\n",
    "\\end{equation}\n",
    "\n",
    "refers to the conjunctive rule where the prediction is equal to the 'and' of the first, third, and forth attributes.\n",
    "\n",
    "Note that the choosen hypothesis space is very small with respect to the problem at hand, in fact,\n",
    "for 4 literals there are only 16 hypotheses in $H$,\n",
    "$|H|$=16, while the problem defined by the dataset allows for $|H|=2^{2^4}=65.536$ hypothesis.\n",
    "\n",
    "Let's first define two helper methods:\n",
    "1. `make_conjunctive_rule_readable` to make a conjunctive rule readable.\n",
    "1. `eval_conjunctive_rule` to evaluate a rule given an example $x$. Note that an 'and' operation between Boolean values\n",
    "is equivalent to a multiplication of 0s and 1s.\n",
    "\n",
    "We will represent the antecedent of conjunctive rules with a list of indices. For example, to represent the rule\n",
    "above we will write:"
   ],
   "metadata": {
    "collapsed": false,
    "pycharm": {
     "name": "#%% md\n"
    }
   }
  },
  {
   "cell_type": "code",
   "execution_count": null,
   "outputs": [],
   "source": [
    "r = [0, 2, 3]"
   ],
   "metadata": {
    "collapsed": false,
    "pycharm": {
     "name": "#%%\n"
    }
   }
  },
  {
   "cell_type": "markdown",
   "source": [
    "Remember that python is a zero-indexed language, that is 1 needs to be subtracted to each index above.\n",
    "\n",
    "The following function will make this rule readable:"
   ],
   "metadata": {
    "collapsed": false,
    "pycharm": {
     "name": "#%% md\n"
    }
   }
  },
  {
   "cell_type": "code",
   "execution_count": null,
   "outputs": [],
   "source": [
    "def make_conjunctive_rule_readable(r):\n",
    "    if r:\n",
    "        res = ''\n",
    "        for i in r[:-1]:\n",
    "            res += 'x_' + str((i+1)) + ' ∧ '\n",
    "\n",
    "        res += 'x_' + str((r[-1]+1))\n",
    "    else:\n",
    "        res = '1'\n",
    "    res += ' -> y'\n",
    "    return res"
   ],
   "metadata": {
    "collapsed": false,
    "pycharm": {
     "name": "#%%\n"
    }
   }
  },
  {
   "cell_type": "code",
   "execution_count": null,
   "outputs": [],
   "source": [
    "make_conjunctive_rule_readable(r)"
   ],
   "metadata": {
    "collapsed": false,
    "pycharm": {
     "name": "#%%\n"
    }
   }
  },
  {
   "cell_type": "markdown",
   "source": [
    "The following function will evaluate the rule on an example $x$."
   ],
   "metadata": {
    "collapsed": false,
    "pycharm": {
     "name": "#%% md\n"
    }
   }
  },
  {
   "cell_type": "code",
   "execution_count": null,
   "outputs": [],
   "source": [
    "def eval_conjunctive_rule(x, r):\n",
    "    res = 1 # initialize rule with 1 (neutral number for multiplication)\n",
    "    for i in r:\n",
    "        res *= x[i] # multiply the attribute selected by r\n",
    "    return res"
   ],
   "metadata": {
    "collapsed": false,
    "pycharm": {
     "name": "#%%\n"
    }
   }
  },
  {
   "cell_type": "markdown",
   "source": [
    "To test this function let's first define an example, then test it on the rule above."
   ],
   "metadata": {
    "collapsed": false,
    "pycharm": {
     "name": "#%% md\n"
    }
   }
  },
  {
   "cell_type": "code",
   "execution_count": null,
   "outputs": [],
   "source": [
    "x = [0, 1, 0, 1]\n",
    "\n",
    "eval_conjunctive_rule(x, r)"
   ],
   "metadata": {
    "collapsed": false,
    "pycharm": {
     "name": "#%%\n"
    }
   }
  },
  {
   "cell_type": "markdown",
   "source": [
    "This rule evaluated the example as False. Can you define an example that evaluates the rule as True?"
   ],
   "metadata": {
    "collapsed": false,
    "pycharm": {
     "name": "#%% md\n"
    }
   }
  },
  {
   "cell_type": "markdown",
   "source": [
    "We now define the brute-force algorithm to generate all possible rules of 4 literals."
   ],
   "metadata": {
    "collapsed": false,
    "pycharm": {
     "name": "#%% md\n"
    }
   }
  },
  {
   "cell_type": "code",
   "execution_count": null,
   "outputs": [],
   "source": [
    "import itertools\n",
    "\n",
    "def generate_all_conjunctive_rules(n):\n",
    "    res = []\n",
    "    for size in range(n+1):\n",
    "        for rule in itertools.combinations(range(n), size):\n",
    "            res.append(rule)\n",
    "    return res\n",
    "\n",
    "conjunctive_rules = generate_all_conjunctive_rules(4)"
   ],
   "metadata": {
    "collapsed": false,
    "pycharm": {
     "name": "#%%\n"
    }
   }
  },
  {
   "cell_type": "markdown",
   "source": [
    "Let's now have a look at those rules."
   ],
   "metadata": {
    "collapsed": false,
    "pycharm": {
     "name": "#%% md\n"
    }
   }
  },
  {
   "cell_type": "code",
   "execution_count": null,
   "outputs": [],
   "source": [
    "for rule in conjunctive_rules:\n",
    "    print(make_conjunctive_rule_readable(rule))"
   ],
   "metadata": {
    "collapsed": false,
    "pycharm": {
     "name": "#%%\n"
    }
   }
  },
  {
   "cell_type": "markdown",
   "source": [
    "These are all possible conjunctive rules one can come up with.\n",
    "\n",
    "We now want to find the rule that produces 0 errors on the dataset. To do this we define the\n",
    "`count_mistakes` function which takes as input the list of predictions generated by a rule `hat_ys`, and the\n",
    "list of target values of the dataset `ys`."
   ],
   "metadata": {
    "collapsed": false,
    "pycharm": {
     "name": "#%% md\n"
    }
   }
  },
  {
   "cell_type": "code",
   "execution_count": null,
   "outputs": [],
   "source": [
    "def count_mistakes(hat_ys, ys):\n",
    "    res = 0\n",
    "    for i in range(len(hat_ys)):\n",
    "        if hat_ys[i] != ys[i]:\n",
    "            res += 1\n",
    "    return res"
   ],
   "metadata": {
    "collapsed": false,
    "pycharm": {
     "name": "#%%\n"
    }
   }
  },
  {
   "cell_type": "markdown",
   "source": [
    "We now write a searching algorithm that iterates over all the possible rules and counts the number of mistakes each rule\n",
    "makes on the dataset."
   ],
   "metadata": {
    "collapsed": false,
    "pycharm": {
     "name": "#%% md\n"
    }
   }
  },
  {
   "cell_type": "code",
   "execution_count": null,
   "outputs": [],
   "source": [
    "for rule in conjunctive_rules:\n",
    "    hat_ys = []\n",
    "    for x in xs:\n",
    "        hat_ys.append(eval_conjunctive_rule(x, rule))\n",
    "\n",
    "    mistakes = count_mistakes(hat_ys, ys)\n",
    "    print('The rule', make_conjunctive_rule_readable(rule), 'has generated', mistakes, 'mistakes')"
   ],
   "metadata": {
    "collapsed": false,
    "pycharm": {
     "name": "#%%\n"
    }
   }
  },
  {
   "cell_type": "markdown",
   "source": [
    "Based on this result we can state that, since no rule generated 0 errors, the concept we want to learn does not belong\n",
    "to the hypothesis space defined by conjunctive rules.\n",
    "\n",
    "## M-of-N Rules\n",
    "\n",
    "We now choose as hypothesis space the m-of-n rules. An m-of-n rule consists of a body containing a set of $n$ literals\n",
    "and a positive integer $m$. This rule is true iff $m$ of the literals are true. For example:\n",
    "\n",
    "$\\text{2-of-}\\{x_1, x_2, x_3\\} \\rightarrow \\hat{y}$\n",
    "\n",
    "This rule is true only if at least two of the literals among $x_1$, $x_2$, and $x_3$ are true.\n",
    "\n",
    "Note that one can prove that the hypothesis space of conjunctive rules is contained in the hypothesis space of\n",
    "m-of-n rules.\n",
    "\n",
    "Let's first define two helper methods:\n",
    "1. `make_m_of_n_rule_readable` to make a m-of-n rule readable.\n",
    "1. `eval_m_of_n_rule` to evaluate a m-of-n rule given an example $x$.\n",
    "\n",
    "We will represent the body of the rule with a list containing $m$ and a list of $n$ indices. For example,\n",
    "to represent the rule above we will write:"
   ],
   "metadata": {
    "collapsed": false,
    "pycharm": {
     "name": "#%% md\n"
    }
   }
  },
  {
   "cell_type": "code",
   "execution_count": null,
   "outputs": [],
   "source": [
    "r = [2, [0, 1, 2]]"
   ],
   "metadata": {
    "collapsed": false,
    "pycharm": {
     "name": "#%%\n"
    }
   }
  },
  {
   "cell_type": "markdown",
   "source": [
    "The following function will make this rule readable."
   ],
   "metadata": {
    "collapsed": false,
    "pycharm": {
     "name": "#%% md\n"
    }
   }
  },
  {
   "cell_type": "code",
   "execution_count": null,
   "outputs": [],
   "source": [
    "def make_m_of_n_rule_readable(r):\n",
    "    m, variables = r\n",
    "    res = str(m) + '-of-{'\n",
    "    for i in variables[:-1]:\n",
    "        res += 'x_' + str(i+1) + ', '\n",
    "    res += 'x_' + str(variables[-1]+1) + '}'\n",
    "    res += ' -> y'\n",
    "    return res"
   ],
   "metadata": {
    "collapsed": false,
    "pycharm": {
     "name": "#%%\n"
    }
   }
  },
  {
   "cell_type": "code",
   "execution_count": null,
   "outputs": [],
   "source": [
    "make_m_of_n_rule_readable(r)"
   ],
   "metadata": {
    "collapsed": false,
    "pycharm": {
     "name": "#%%\n"
    }
   }
  },
  {
   "cell_type": "markdown",
   "source": [
    "The following function will evaluate the rule on an example."
   ],
   "metadata": {
    "collapsed": false,
    "pycharm": {
     "name": "#%% md\n"
    }
   }
  },
  {
   "cell_type": "code",
   "execution_count": null,
   "outputs": [],
   "source": [
    "def eval_m_of_n_rule(x, r):\n",
    "    count = 0 # initialize rule with 0 (neutral number for summation)\n",
    "    m, variables = r\n",
    "    for i in variables:\n",
    "        count += x[i] # count how many variables match\n",
    "    if count >= m:\n",
    "        return 1\n",
    "    return 0"
   ],
   "metadata": {
    "collapsed": false,
    "pycharm": {
     "name": "#%%\n"
    }
   }
  },
  {
   "cell_type": "markdown",
   "source": [
    "To test this function let's first define an example, then test it on the rule above."
   ],
   "metadata": {
    "collapsed": false,
    "pycharm": {
     "name": "#%% md\n"
    }
   }
  },
  {
   "cell_type": "code",
   "execution_count": null,
   "outputs": [],
   "source": [
    "x = [0, 1, 1, 1]\n",
    "\n",
    "eval_m_of_n_rule(x, r)"
   ],
   "metadata": {
    "collapsed": false,
    "pycharm": {
     "name": "#%%\n"
    }
   }
  },
  {
   "cell_type": "markdown",
   "source": [
    "This rule evaluated the example as True. Can you define an example that evaluates the rule as False?\n",
    "\n",
    "We now define the brute-force algorithm to generate all possible m-of-n rules for 4 literals."
   ],
   "metadata": {
    "collapsed": false,
    "pycharm": {
     "name": "#%% md\n"
    }
   }
  },
  {
   "cell_type": "code",
   "execution_count": null,
   "outputs": [],
   "source": [
    "def generate_all_m_of_n_rules(n):\n",
    "    res = []\n",
    "    for size in range(n+1):\n",
    "        for variables in itertools.combinations(range(n), size):\n",
    "            for m in range(len(variables)):\n",
    "                res.append((m + 1, variables))\n",
    "    return res\n",
    "\n",
    "m_of_n_rules = generate_all_m_of_n_rules(4)"
   ],
   "metadata": {
    "collapsed": false,
    "pycharm": {
     "name": "#%%\n"
    }
   }
  },
  {
   "cell_type": "markdown",
   "source": [
    "Let's now have a look at those rules."
   ],
   "metadata": {
    "collapsed": false
   }
  },
  {
   "cell_type": "code",
   "execution_count": null,
   "outputs": [],
   "source": [
    "for rule in m_of_n_rules:\n",
    "    print(make_m_of_n_rule_readable(rule))"
   ],
   "metadata": {
    "collapsed": false,
    "pycharm": {
     "name": "#%%\n"
    }
   }
  },
  {
   "cell_type": "markdown",
   "source": [
    "These are all possible m-of-n rules one can come up with.\n",
    "\n",
    "At this point we want to find the rule that produces 0 errors on the dataset. To do this we will reuse the\n",
    "`count_mistakes` function defined above.\n",
    "We now write a searching algorithm that iterates over all the possible rules and counts the number of mistakes each rule\n",
    "makes on the dataset."
   ],
   "metadata": {
    "collapsed": false,
    "pycharm": {
     "name": "#%% md\n"
    }
   }
  },
  {
   "cell_type": "code",
   "execution_count": null,
   "outputs": [],
   "source": [
    "for r in m_of_n_rules:\n",
    "    hat_ys = []\n",
    "    for x in xs:\n",
    "        hat_ys.append(eval_m_of_n_rule(x, r))\n",
    "\n",
    "    mistakes = count_mistakes(hat_ys, ys)\n",
    "    print('The rule', make_m_of_n_rule_readable(r), 'has generated', mistakes, 'mistakes')"
   ],
   "metadata": {
    "collapsed": false,
    "pycharm": {
     "name": "#%%\n"
    }
   }
  },
  {
   "cell_type": "markdown",
   "source": [
    "In this case we have found that one of the rules has generated 0 mistakes:\n",
    "\n",
    "$\\text{2-of-}\\{x_1, x_3, x_4\\} \\rightarrow y$\n",
    "\n",
    "Can you now say that this is the rule that generated the training set, the concept we wanted to learn?\n",
    "\n",
    "Can you add an example in the dataset that makes also m-of-n rules fail?\n",
    "Make sure to not repeat an instance of the dataset with a different target value."
   ],
   "metadata": {
    "collapsed": false,
    "pycharm": {
     "name": "#%% md\n"
    }
   }
  }
 ],
 "metadata": {
  "kernelspec": {
   "display_name": "Python 3",
   "language": "python",
   "name": "python3"
  },
  "language_info": {
   "codemirror_mode": {
    "name": "ipython",
    "version": 2
   },
   "file_extension": ".py",
   "mimetype": "text/x-python",
   "name": "python",
   "nbconvert_exporter": "python",
   "pygments_lexer": "ipython2",
   "version": "2.7.6"
  }
 },
 "nbformat": 4,
 "nbformat_minor": 0
}