{
 "cells": [
  {
   "cell_type": "code",
   "execution_count": 5,
   "metadata": {
    "collapsed": true
   },
   "outputs": [],
   "source": [
    "import itertools"
   ]
  },
  {
   "cell_type": "code",
   "execution_count": null,
   "outputs": [],
   "source": [
    "xs = [[0, 0, 1, 0],\n",
    "      [0, 1, 0, 0],\n",
    "      [0, 0, 1, 1],\n",
    "      [1, 0, 0, 1],\n",
    "      [0, 1, 1, 0],\n",
    "      [1, 1, 0, 0],\n",
    "      [0, 1, 0, 1]]\n",
    "\n",
    "ys = [0, 0, 1, 1, 0, 0, 0]"
   ],
   "metadata": {
    "collapsed": false,
    "pycharm": {
     "name": "#%%\n"
    }
   }
  },
  {
   "cell_type": "code",
   "execution_count": 26,
   "outputs": [],
   "source": [
    "def eval_conjunctive_rule(x, r):\n",
    "    res = 1 # initialize rule with 1 (neutral number for products)\n",
    "    for i in r:\n",
    "        res *= x[i] # do and with the element selected by r\n",
    "    return res\n",
    "\n",
    "def make_conjunctive_rule_readable(r):\n",
    "    if r:\n",
    "        res = ''\n",
    "        for i in r[:-1]:\n",
    "            res += 'x_' + str((i+1)) + ' ∧ '\n",
    "\n",
    "        res += 'x_' + str((r[-1]+1))\n",
    "    else:\n",
    "        res = '1'\n",
    "    return res"
   ],
   "metadata": {
    "collapsed": false,
    "pycharm": {
     "name": "#%%\n"
    }
   }
  },
  {
   "cell_type": "code",
   "execution_count": 27,
   "outputs": [],
   "source": [
    "def generate_all_conjunctive_rules(n):\n",
    "    res = []\n",
    "    for size in range(n+1):\n",
    "        for rule in itertools.combinations(range(n), size):\n",
    "            res.append(rule)\n",
    "    return res"
   ],
   "metadata": {
    "collapsed": false,
    "pycharm": {
     "name": "#%%\n"
    }
   }
  },
  {
   "cell_type": "code",
   "execution_count": 32,
   "outputs": [],
   "source": [
    "def count_mistakes(hat_ys, ys):\n",
    "    res = 0\n",
    "    for i in range(len(hat_ys)):\n",
    "        if hat_ys[i] != ys[i]:\n",
    "            res += 1\n",
    "    return res"
   ],
   "metadata": {
    "collapsed": false,
    "pycharm": {
     "name": "#%%\n"
    }
   }
  },
  {
   "cell_type": "code",
   "execution_count": 33,
   "outputs": [
    {
     "data": {
      "text/plain": "[(),\n (0,),\n (1,),\n (2,),\n (3,),\n (0, 1),\n (0, 2),\n (0, 3),\n (1, 2),\n (1, 3),\n (2, 3),\n (0, 1, 2),\n (0, 1, 3),\n (0, 2, 3),\n (1, 2, 3),\n (0, 1, 2, 3)]"
     },
     "execution_count": 33,
     "metadata": {},
     "output_type": "execute_result"
    }
   ],
   "source": [
    "conjunctive_rules = generate_all_conjunctive_rules(4)\n",
    "\n",
    "conjunctive_rules"
   ],
   "metadata": {
    "collapsed": false,
    "pycharm": {
     "name": "#%%\n"
    }
   }
  },
  {
   "cell_type": "code",
   "execution_count": 34,
   "outputs": [
    {
     "name": "stdout",
     "output_type": "stream",
     "text": [
      "1\n",
      "x_1\n",
      "x_2\n",
      "x_3\n",
      "x_4\n",
      "x_1 ∧ x_2\n",
      "x_1 ∧ x_3\n",
      "x_1 ∧ x_4\n",
      "x_2 ∧ x_3\n",
      "x_2 ∧ x_4\n",
      "x_3 ∧ x_4\n",
      "x_1 ∧ x_2 ∧ x_3\n",
      "x_1 ∧ x_2 ∧ x_4\n",
      "x_1 ∧ x_3 ∧ x_4\n",
      "x_2 ∧ x_3 ∧ x_4\n",
      "x_1 ∧ x_2 ∧ x_3 ∧ x_4\n"
     ]
    }
   ],
   "source": [
    "for rule in conjunctive_rules:\n",
    "    print(make_conjunctive_rule_readable(rule))"
   ],
   "metadata": {
    "collapsed": false,
    "pycharm": {
     "name": "#%%\n"
    }
   }
  },
  {
   "cell_type": "code",
   "execution_count": 35,
   "outputs": [
    {
     "name": "stdout",
     "output_type": "stream",
     "text": [
      "The rule 1  has generated 5 mistakes\n",
      "The rule x_1  has generated 2 mistakes\n",
      "The rule x_2  has generated 6 mistakes\n",
      "The rule x_3  has generated 3 mistakes\n",
      "The rule x_4  has generated 1 mistakes\n",
      "The rule x_1 ∧ x_2  has generated 3 mistakes\n",
      "The rule x_1 ∧ x_3  has generated 2 mistakes\n",
      "The rule x_1 ∧ x_4  has generated 1 mistakes\n",
      "The rule x_2 ∧ x_3  has generated 3 mistakes\n",
      "The rule x_2 ∧ x_4  has generated 3 mistakes\n",
      "The rule x_3 ∧ x_4  has generated 1 mistakes\n",
      "The rule x_1 ∧ x_2 ∧ x_3  has generated 2 mistakes\n",
      "The rule x_1 ∧ x_2 ∧ x_4  has generated 2 mistakes\n",
      "The rule x_1 ∧ x_3 ∧ x_4  has generated 2 mistakes\n",
      "The rule x_2 ∧ x_3 ∧ x_4  has generated 2 mistakes\n",
      "The rule x_1 ∧ x_2 ∧ x_3 ∧ x_4  has generated 2 mistakes\n"
     ]
    }
   ],
   "source": [
    "for r in conjunctive_rules:\n",
    "    hat_ys = []\n",
    "    for x in xs:\n",
    "        hat_ys.append(eval_conjunctive_rule(x, r))\n",
    "\n",
    "    mistakes = count_mistakes(hat_ys, ys)\n",
    "    print('The rule', make_conjunctive_rule_readable(r), 'has generated', mistakes, 'mistakes')"
   ],
   "metadata": {
    "collapsed": false,
    "pycharm": {
     "name": "#%%\n"
    }
   }
  },
  {
   "cell_type": "code",
   "execution_count": 56,
   "outputs": [],
   "source": [
    "def eval_m_of_n_rule(x, r):\n",
    "    count = 0 # initialize rule with 0 (neutral number for summation)\n",
    "    m, variables = r\n",
    "    for i in variables:\n",
    "        count += x[i] # count how many variables match\n",
    "    if count >= m:\n",
    "        return 1\n",
    "    return 0\n",
    "\n",
    "def make_m_of_n_rule_readable(r):\n",
    "    m, variables = r\n",
    "    res = str(m) + '-of-{'\n",
    "    for i in variables[:-1]:\n",
    "        res += 'x_' + str(i+1) + ', '\n",
    "    res += 'x_' + str(variables[-1]+1) + '}'\n",
    "    return res"
   ],
   "metadata": {
    "collapsed": false,
    "pycharm": {
     "name": "#%%\n"
    }
   }
  },
  {
   "cell_type": "code",
   "execution_count": 53,
   "outputs": [
    {
     "data": {
      "text/plain": "[(1, (0,)),\n (1, (1,)),\n (1, (2,)),\n (1, (3,)),\n (1, (0, 1)),\n (2, (0, 1)),\n (1, (0, 2)),\n (2, (0, 2)),\n (1, (0, 3)),\n (2, (0, 3)),\n (1, (1, 2)),\n (2, (1, 2)),\n (1, (1, 3)),\n (2, (1, 3)),\n (1, (2, 3)),\n (2, (2, 3)),\n (1, (0, 1, 2)),\n (2, (0, 1, 2)),\n (3, (0, 1, 2)),\n (1, (0, 1, 3)),\n (2, (0, 1, 3)),\n (3, (0, 1, 3)),\n (1, (0, 2, 3)),\n (2, (0, 2, 3)),\n (3, (0, 2, 3)),\n (1, (1, 2, 3)),\n (2, (1, 2, 3)),\n (3, (1, 2, 3)),\n (1, (0, 1, 2, 3)),\n (2, (0, 1, 2, 3)),\n (3, (0, 1, 2, 3)),\n (4, (0, 1, 2, 3))]"
     },
     "execution_count": 53,
     "metadata": {},
     "output_type": "execute_result"
    }
   ],
   "source": [
    "def generate_all_m_of_n_rules(n):\n",
    "    res = []\n",
    "    for size in range(n+1):\n",
    "        for variables in itertools.combinations(range(n), size):\n",
    "            for m in range(len(variables)):\n",
    "                res.append((m + 1, variables))\n",
    "    return res\n",
    "\n",
    "m_of_n_rules = generate_all_m_of_n_rules(4)\n",
    "\n",
    "m_of_n_rules"
   ],
   "metadata": {
    "collapsed": false,
    "pycharm": {
     "name": "#%%\n"
    }
   }
  },
  {
   "cell_type": "code",
   "execution_count": 57,
   "outputs": [
    {
     "name": "stdout",
     "output_type": "stream",
     "text": [
      "1-of-{x_1}\n",
      "1-of-{x_2}\n",
      "1-of-{x_3}\n",
      "1-of-{x_4}\n",
      "1-of-{x_1, x_2}\n",
      "2-of-{x_1, x_2}\n",
      "1-of-{x_1, x_3}\n",
      "2-of-{x_1, x_3}\n",
      "1-of-{x_1, x_4}\n",
      "2-of-{x_1, x_4}\n",
      "1-of-{x_2, x_3}\n",
      "2-of-{x_2, x_3}\n",
      "1-of-{x_2, x_4}\n",
      "2-of-{x_2, x_4}\n",
      "1-of-{x_3, x_4}\n",
      "2-of-{x_3, x_4}\n",
      "1-of-{x_1, x_2, x_3}\n",
      "2-of-{x_1, x_2, x_3}\n",
      "3-of-{x_1, x_2, x_3}\n",
      "1-of-{x_1, x_2, x_4}\n",
      "2-of-{x_1, x_2, x_4}\n",
      "3-of-{x_1, x_2, x_4}\n",
      "1-of-{x_1, x_3, x_4}\n",
      "2-of-{x_1, x_3, x_4}\n",
      "3-of-{x_1, x_3, x_4}\n",
      "1-of-{x_2, x_3, x_4}\n",
      "2-of-{x_2, x_3, x_4}\n",
      "3-of-{x_2, x_3, x_4}\n",
      "1-of-{x_1, x_2, x_3, x_4}\n",
      "2-of-{x_1, x_2, x_3, x_4}\n",
      "3-of-{x_1, x_2, x_3, x_4}\n",
      "4-of-{x_1, x_2, x_3, x_4}\n"
     ]
    }
   ],
   "source": [
    "for rule in m_of_n_rules:\n",
    "    print(make_m_of_n_rule_readable(rule))"
   ],
   "metadata": {
    "collapsed": false,
    "pycharm": {
     "name": "#%%\n"
    }
   }
  },
  {
   "cell_type": "code",
   "execution_count": 59,
   "outputs": [
    {
     "name": "stdout",
     "output_type": "stream",
     "text": [
      "The rule 1-of-{x_1} has generated 2 mistakes\n",
      "The rule 1-of-{x_2} has generated 6 mistakes\n",
      "The rule 1-of-{x_3} has generated 3 mistakes\n",
      "The rule 1-of-{x_4} has generated 1 mistakes\n",
      "The rule 1-of-{x_1, x_2} has generated 5 mistakes\n",
      "The rule 2-of-{x_1, x_2} has generated 3 mistakes\n",
      "The rule 1-of-{x_1, x_3} has generated 3 mistakes\n",
      "The rule 2-of-{x_1, x_3} has generated 2 mistakes\n",
      "The rule 1-of-{x_1, x_4} has generated 2 mistakes\n",
      "The rule 2-of-{x_1, x_4} has generated 1 mistakes\n",
      "The rule 1-of-{x_2, x_3} has generated 6 mistakes\n",
      "The rule 2-of-{x_2, x_3} has generated 3 mistakes\n",
      "The rule 1-of-{x_2, x_4} has generated 4 mistakes\n",
      "The rule 2-of-{x_2, x_4} has generated 3 mistakes\n",
      "The rule 1-of-{x_3, x_4} has generated 3 mistakes\n",
      "The rule 2-of-{x_3, x_4} has generated 1 mistakes\n",
      "The rule 1-of-{x_1, x_2, x_3} has generated 5 mistakes\n",
      "The rule 2-of-{x_1, x_2, x_3} has generated 4 mistakes\n",
      "The rule 3-of-{x_1, x_2, x_3} has generated 2 mistakes\n",
      "The rule 1-of-{x_1, x_2, x_4} has generated 4 mistakes\n",
      "The rule 2-of-{x_1, x_2, x_4} has generated 3 mistakes\n",
      "The rule 3-of-{x_1, x_2, x_4} has generated 2 mistakes\n",
      "The rule 1-of-{x_1, x_3, x_4} has generated 4 mistakes\n",
      "The rule 2-of-{x_1, x_3, x_4} has generated 0 mistakes\n",
      "The rule 3-of-{x_1, x_3, x_4} has generated 2 mistakes\n",
      "The rule 1-of-{x_2, x_3, x_4} has generated 5 mistakes\n",
      "The rule 2-of-{x_2, x_3, x_4} has generated 3 mistakes\n",
      "The rule 3-of-{x_2, x_3, x_4} has generated 2 mistakes\n",
      "The rule 1-of-{x_1, x_2, x_3, x_4} has generated 5 mistakes\n",
      "The rule 2-of-{x_1, x_2, x_3, x_4} has generated 3 mistakes\n",
      "The rule 3-of-{x_1, x_2, x_3, x_4} has generated 2 mistakes\n",
      "The rule 4-of-{x_1, x_2, x_3, x_4} has generated 2 mistakes\n"
     ]
    }
   ],
   "source": [
    "for r in m_of_n_rules:\n",
    "    hat_ys = []\n",
    "    for x in xs:\n",
    "        hat_ys.append(eval_m_of_n_rule(x, r))\n",
    "\n",
    "    mistakes = count_mistakes(hat_ys, ys)\n",
    "    print('The rule', make_m_of_n_rule_readable(r), 'has generated', mistakes, 'mistakes')"
   ],
   "metadata": {
    "collapsed": false,
    "pycharm": {
     "name": "#%%\n"
    }
   }
  },
  {
   "cell_type": "code",
   "execution_count": null,
   "outputs": [],
   "source": [],
   "metadata": {
    "collapsed": false,
    "pycharm": {
     "name": "#%%\n"
    }
   }
  }
 ],
 "metadata": {
  "kernelspec": {
   "display_name": "Python 3",
   "language": "python",
   "name": "python3"
  },
  "language_info": {
   "codemirror_mode": {
    "name": "ipython",
    "version": 2
   },
   "file_extension": ".py",
   "mimetype": "text/x-python",
   "name": "python",
   "nbconvert_exporter": "python",
   "pygments_lexer": "ipython2",
   "version": "2.7.6"
  }
 },
 "nbformat": 4,
 "nbformat_minor": 0
}